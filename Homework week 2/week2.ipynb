{
 "cells": [
  {
   "cell_type": "code",
   "execution_count": 3,
   "metadata": {},
   "outputs": [
    {
     "name": "stdout",
     "output_type": "stream",
     "text": [
      "[5, 5, 5, 5, 10, 12, 33, 33]\n"
     ]
    }
   ],
   "source": [
    "## Sliding Window function, Maximum in Each Window function\n",
    "from collections import deque\n",
    "\n",
    "def sliding_window_maximum(num_list, k):\n",
    "    if not num_list or k <= 0:\n",
    "        return []\n",
    "\n",
    "    # Deque to store indices of elements\n",
    "    dq = deque()\n",
    "    result = []\n",
    "\n",
    "    for i in range(len(num_list)):\n",
    "        # Remove elements not within the sliding window\n",
    "        if dq and dq[0] < i - k + 1:\n",
    "            dq.popleft()\n",
    "        \n",
    "        # Remove elements smaller than the current element\n",
    "        while dq and num_list[dq[-1]] < num_list[i]:\n",
    "            dq.pop()\n",
    "        \n",
    "        # Add current element at the end of deque\n",
    "        dq.append(i)\n",
    "        \n",
    "        # Append the maximum element of the current window to the result list\n",
    "        if i >= k - 1:\n",
    "            result.append(num_list[dq[0]])\n",
    "\n",
    "    return result\n",
    "\n",
    "# Test the function\n",
    "num_list = [3, 4, 5, 1, -44, 5, 10, 12, 33, 1]\n",
    "k = 3\n",
    "print(sliding_window_maximum(num_list, k))  # Output: [5, 5, 5, 5, 10, 12, 33, 33]\n"
   ]
  },
  {
   "cell_type": "code",
   "execution_count": 5,
   "metadata": {},
   "outputs": [
    {
     "name": "stdout",
     "output_type": "stream",
     "text": [
      "{'i': 2, 'n': 3, 't': 2, 'e': 1, 'r': 1, 'a': 2, 'o': 1, 'l': 2}\n"
     ]
    }
   ],
   "source": [
    "## character count function \n",
    "def count_chars(string):\n",
    "    # Initialize an empty dictionary to store the character counts\n",
    "    char_count = {}\n",
    "\n",
    "    # Iterate through each character in the string\n",
    "    for char in string:\n",
    "        # Convert character to lowercase to ensure case insensitivity\n",
    "        char = char.lower()\n",
    "        \n",
    "        # Check if the character is already in the dictionary\n",
    "        if char in char_count:\n",
    "            # Increment the count if it is already in the dictionary\n",
    "            char_count[char] += 1\n",
    "        else:\n",
    "            # Add the character to the dictionary with a count of 1\n",
    "            char_count[char] = 1\n",
    "\n",
    "    return char_count\n",
    "\n",
    "# Test the function\n",
    "string = 'internationall'\n",
    "print(count_chars(string))  # Output: {'h': 1, 'a': 1, 'p': 2, 'i': 1, 'n': 1, 'e': 1, 's': 2}\n"
   ]
  },
  {
   "cell_type": "code",
   "execution_count": 10,
   "metadata": {},
   "outputs": [
    {
     "name": "stdout",
     "output_type": "stream",
     "text": [
      "{'hello': 3, 'world': 2, 'this': 2, 'is': 2, 'a': 1, 'sample': 1, 'text': 1, 'file': 2, 'again': 3, 'used': 1, 'to': 1, 'count': 1, 'the': 1, 'occurrences': 1, 'of': 1, 'each': 1, 'word': 1, 'and': 1}\n"
     ]
    }
   ],
   "source": [
    "##Counting Words in a Text File\n",
    "\n",
    "import re\n",
    "\n",
    "def count_words(file_path):\n",
    "    word_count = {}\n",
    "\n",
    "    with open(file_path, 'r') as file:\n",
    "        for line in file:\n",
    "            # Remove punctuation and convert to lower case\n",
    "            words = re.findall(r'\\b[a-zA-Z]+\\b', line.lower())\n",
    "            for word in words:\n",
    "                if word in word_count:\n",
    "                    word_count[word] += 1\n",
    "                else:\n",
    "                    word_count[word] = 1\n",
    "\n",
    "    return word_count\n",
    "\n",
    "#usage\n",
    "file_path = 'sample_text.txt'  \n",
    "print(count_words(file_path))\n",
    "\n"
   ]
  },
  {
   "cell_type": "code",
   "execution_count": 12,
   "metadata": {},
   "outputs": [
    {
     "name": "stdout",
     "output_type": "stream",
     "text": [
      "3\n",
      "2\n"
     ]
    }
   ],
   "source": [
    "## Levenshtein Distance Calculation\n",
    "def levenshtein_distance(token1, token2):\n",
    "    m, n = len(token1), len(token2)\n",
    "    \n",
    "    # Initialize the matrix\n",
    "    dp = [[0] * (n + 1) for _ in range(m + 1)]\n",
    "    \n",
    "    # Initialize the first row and column\n",
    "    for i in range(m + 1):\n",
    "        dp[i][0] = i\n",
    "    for j in range(n + 1):\n",
    "        dp[0][j] = j\n",
    "    \n",
    "    # Populate the matrix\n",
    "    for i in range(1, m + 1):\n",
    "        for j in range(1, n + 1):\n",
    "            if token1[i - 1] == token2[j - 1]:\n",
    "                dp[i][j] = dp[i - 1][j - 1]\n",
    "            else:\n",
    "                dp[i][j] = min(dp[i - 1][j] + 1,  # Deletion\n",
    "                               dp[i][j - 1] + 1,  # Insertion\n",
    "                               dp[i - 1][j - 1] + 1)  # Substitution\n",
    "\n",
    "    return dp[m][n]\n",
    "\n",
    "# usage\n",
    "print(levenshtein_distance(\"kitten\", \"sitting\"))  # Output: 3\n",
    "\n"
   ]
  },
  {
   "cell_type": "code",
   "execution_count": null,
   "metadata": {},
   "outputs": [],
   "source": []
  }
 ],
 "metadata": {
  "kernelspec": {
   "display_name": "Python 3",
   "language": "python",
   "name": "python3"
  },
  "language_info": {
   "codemirror_mode": {
    "name": "ipython",
    "version": 3
   },
   "file_extension": ".py",
   "mimetype": "text/x-python",
   "name": "python",
   "nbconvert_exporter": "python",
   "pygments_lexer": "ipython3",
   "version": "3.12.3"
  }
 },
 "nbformat": 4,
 "nbformat_minor": 2
}
